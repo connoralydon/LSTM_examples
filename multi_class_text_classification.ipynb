{
  "cells": [
    {
      "cell_type": "markdown",
      "metadata": {
        "id": "view-in-github",
        "colab_type": "text"
      },
      "source": [
        "<a href=\"https://colab.research.google.com/github/connoralydon/LSTM_examples/blob/main/multi_class_text_classification.ipynb\" target=\"_parent\"><img src=\"https://colab.research.google.com/assets/colab-badge.svg\" alt=\"Open In Colab\"/></a>"
      ]
    },
    {
      "cell_type": "markdown",
      "metadata": {
        "id": "V6Yrfl6O1qE3"
      },
      "source": [
        "# LSTM multiple classification of BBC articles"
      ]
    },
    {
      "cell_type": "markdown",
      "metadata": {
        "id": "dM62tyrNjP0j"
      },
      "source": [
        "using [this dataset](https://djajafer.medium.com/multi-class-text-classification-with-keras-and-lstm-4c5525bef592) and [this guide](https://djajafer.medium.com/multi-class-text-classification-with-keras-and-lstm-4c5525bef592)\n",
        "\n",
        "disciphering what type of article from the article's text\n"
      ]
    },
    {
      "cell_type": "code",
      "execution_count": null,
      "metadata": {
        "colab": {
          "base_uri": "https://localhost:8080/"
        },
        "id": "91JxSh8he1MI",
        "outputId": "4bc0e95a-9842-4642-a8e0-54290a714f04"
      },
      "outputs": [
        {
          "name": "stdout",
          "output_type": "stream",
          "text": [
            "Drive already mounted at /content/drive; to attempt to forcibly remount, call drive.mount(\"/content/drive\", force_remount=True).\n"
          ]
        }
      ],
      "source": [
        "from google.colab import drive\n",
        "drive.mount('/content/drive')"
      ]
    },
    {
      "cell_type": "markdown",
      "metadata": {
        "id": "MEeYKTmndo5G"
      },
      "source": [
        "#### importing packages"
      ]
    },
    {
      "cell_type": "code",
      "execution_count": null,
      "metadata": {
        "id": "WJAH2iHOjP0n"
      },
      "outputs": [],
      "source": [
        "from urllib.request import urlopen\n",
        "\n",
        "import csv\n",
        "import tensorflow as tf\n",
        "import numpy as np\n",
        "import pandas as pd\n",
        "\n",
        "# tensorflow\n",
        "from tensorflow.keras.preprocessing.text import Tokenizer\n",
        "from tensorflow.keras.preprocessing.sequence import pad_sequences\n",
        "from tensorflow.keras.models import Sequential\n",
        "from tensorflow.keras.layers import Dense, Flatten, LSTM, Dropout, Activation, Embedding, Bidirectional"
      ]
    },
    {
      "cell_type": "markdown",
      "metadata": {
        "id": "smT8N7Ocdo5I"
      },
      "source": [
        "#### reading in stopwords\n",
        "these are common words that prodive little context or value in our case."
      ]
    },
    {
      "cell_type": "code",
      "execution_count": null,
      "metadata": {
        "colab": {
          "base_uri": "https://localhost:8080/"
        },
        "id": "BlehZ5g1jP0q",
        "outputId": "43b28754-65fc-4b67-c674-cad6664e2149"
      },
      "outputs": [
        {
          "name": "stdout",
          "output_type": "stream",
          "text": [
            "[nltk_data] Downloading package stopwords to /root/nltk_data...\n",
            "[nltk_data]   Package stopwords is already up-to-date!\n"
          ]
        }
      ],
      "source": [
        "import nltk\n",
        "nltk.download('stopwords')\n",
        "from nltk.corpus import stopwords\n",
        "STOPWORDS = set(stopwords.words('english'))"
      ]
    },
    {
      "cell_type": "markdown",
      "metadata": {
        "id": "XYrbAzYedo5L"
      },
      "source": [
        "## setting model parameters and variables\n",
        "\n",
        "it sets the neural network dimensions as well as how to truncate and select certain words for modelling on."
      ]
    },
    {
      "cell_type": "code",
      "execution_count": null,
      "metadata": {
        "id": "QToETCuAjP0r"
      },
      "outputs": [],
      "source": [
        "vocab_size = 5000 # make the top list of words (common words)\n",
        "embedding_dim = 64\n",
        "max_length = 200\n",
        "trunc_type = 'post'\n",
        "padding_type = 'post'\n",
        "oov_tok = '<OOV>' # OOV = Out of Vocabulary\n",
        "training_portion = .8"
      ]
    },
    {
      "cell_type": "markdown",
      "metadata": {
        "id": "pjw3HUNVdo5M"
      },
      "source": [
        "## separating csv into articles and labels\n",
        "list of each\n",
        "\n",
        "#### reading in data\n",
        "reading it from a google server and saving locally to 'data/bbc-text.csv'"
      ]
    },
    {
      "cell_type": "code",
      "execution_count": null,
      "metadata": {
        "id": "d4-rcrEhjP0r"
      },
      "outputs": [],
      "source": [
        "articles = []\n",
        "labels = []\n",
        "\n",
        "with open(\"/content/drive/MyDrive/Colab Notebooks/multi_class_BBC/data/bbc-text.csv\", 'r') as csvfile:\n",
        "    reader = csv.reader(csvfile, delimiter=',')\n",
        "    next(reader)\n",
        "    for row in reader:\n",
        "        labels.append(row[0])\n",
        "        article = row[1]\n",
        "        for word in STOPWORDS:\n",
        "            token = ' ' + word + ' '\n",
        "            article = article.replace(token, ' ')\n",
        "            article = article.replace(' ', ' ')\n",
        "        articles.append(article)"
      ]
    },
    {
      "cell_type": "code",
      "execution_count": null,
      "metadata": {
        "colab": {
          "base_uri": "https://localhost:8080/"
        },
        "id": "KVwDdBu0jP0s",
        "outputId": "c0f71e59-34a7-49f9-bd14-d9401a05de00"
      },
      "outputs": [
        {
          "name": "stdout",
          "output_type": "stream",
          "text": [
            "2225\n",
            "2225\n"
          ]
        }
      ],
      "source": [
        "print(len(labels))\n",
        "print(len(articles))"
      ]
    },
    {
      "cell_type": "markdown",
      "metadata": {
        "id": "32SufyvujP0t"
      },
      "source": [
        "## creating train test validation split"
      ]
    },
    {
      "cell_type": "markdown",
      "metadata": {
        "id": "Shbplzwcdo5N"
      },
      "source": [
        "## train test split with the articles"
      ]
    },
    {
      "cell_type": "code",
      "execution_count": null,
      "metadata": {
        "id": "PaiqpLTDjP0t"
      },
      "outputs": [],
      "source": [
        "train_size = int(len(articles) * training_portion)\n",
        "\n",
        "train_articles = articles[0: train_size]\n",
        "train_labels = labels[0: train_size]\n",
        "\n",
        "validation_articles = articles[train_size:]\n",
        "validation_labels = labels[train_size:]"
      ]
    },
    {
      "cell_type": "code",
      "execution_count": null,
      "metadata": {
        "colab": {
          "base_uri": "https://localhost:8080/"
        },
        "id": "r2n-B8CDjP0u",
        "outputId": "88982de2-521b-47ef-8b09-b512cf2badcf"
      },
      "outputs": [
        {
          "name": "stdout",
          "output_type": "stream",
          "text": [
            "train_size 1780\n",
            "train_articles 1780\n",
            "train_labels 1780\n",
            "validation_articles 445\n",
            "validation_labels 445\n"
          ]
        }
      ],
      "source": [
        "print(\"train_size\", train_size)\n",
        "print(f\"train_articles {len(train_articles)}\")\n",
        "print(\"train_labels\", len(train_labels))\n",
        "print(\"validation_articles\", len(validation_articles))\n",
        "print(\"validation_labels\", len(validation_labels))"
      ]
    },
    {
      "cell_type": "markdown",
      "metadata": {
        "id": "MmuJ1pYDjP0u"
      },
      "source": [
        "## tokenizing words\n",
        "only grabbing 5000 most common words. this is to help from grabbing unique nouns that seldom occur.\n",
        "\n",
        "building tokenizer"
      ]
    },
    {
      "cell_type": "code",
      "execution_count": null,
      "metadata": {
        "id": "jpWt9DsEjP0v"
      },
      "outputs": [],
      "source": [
        "tokenizer = Tokenizer(num_words = vocab_size, oov_token=oov_tok)\n",
        "tokenizer.fit_on_texts(train_articles)\n",
        "word_index = tokenizer.word_index"
      ]
    },
    {
      "cell_type": "markdown",
      "metadata": {
        "id": "Gz1_ii4VjP0v"
      },
      "source": [
        "## convert to sequencing\n",
        "this converts a string into a squence of numbers that represent the word. this way the mdoel can put a number to the word and be usable."
      ]
    },
    {
      "cell_type": "code",
      "execution_count": null,
      "metadata": {
        "id": "uUftP95-jP0w"
      },
      "outputs": [],
      "source": [
        "# tokenizer = Tokenizer(num_words = vocab_size, oov_token=oov_tok)\n",
        "# text_sequences = tokenizer.texts_to_sequences([\"the cat sat on my table\"])\n",
        "# text_sequences"
      ]
    },
    {
      "cell_type": "markdown",
      "metadata": {
        "id": "CceeBK0fjP0w"
      },
      "source": [
        "## fitting tokenizer and padding\n",
        "so they are all the same length, adding null to end of short sequences.\n",
        "can make sequences shorter or longer. it removes the end of a sentence if it is too long"
      ]
    },
    {
      "cell_type": "code",
      "execution_count": null,
      "metadata": {
        "id": "SlWq6AzwjP0x"
      },
      "outputs": [],
      "source": [
        "train_sequences = tokenizer.texts_to_sequences(train_articles)\n",
        "validation_sequences = tokenizer.texts_to_sequences(validation_articles)\n",
        "\n",
        "train_padded = pad_sequences(train_sequences, maxlen=max_length, padding=padding_type, truncating=trunc_type)\n",
        "validation_padded = pad_sequences(validation_sequences, maxlen=max_length, padding=padding_type, truncating=trunc_type)"
      ]
    },
    {
      "cell_type": "markdown",
      "metadata": {
        "id": "MHCA-hYljP0x"
      },
      "source": [
        "## tokenize data"
      ]
    },
    {
      "cell_type": "code",
      "execution_count": null,
      "metadata": {
        "id": "Ia60hnqOjP0y"
      },
      "outputs": [],
      "source": [
        "label_tokenizer = Tokenizer()\n",
        "label_tokenizer.fit_on_texts(labels)\n",
        "\n",
        "training_label_seq = np.array(label_tokenizer.texts_to_sequences(train_labels))\n",
        "validation_label_seq = np.array(label_tokenizer.texts_to_sequences(validation_labels))"
      ]
    },
    {
      "cell_type": "markdown",
      "metadata": {
        "id": "2LJevmJSjP0y"
      },
      "source": [
        "## initialize the model"
      ]
    },
    {
      "cell_type": "code",
      "execution_count": null,
      "metadata": {
        "colab": {
          "base_uri": "https://localhost:8080/"
        },
        "id": "s-HpaIGTjP0y",
        "outputId": "a7f02414-69a3-4852-dc41-5bf6d701d493"
      },
      "outputs": [
        {
          "name": "stdout",
          "output_type": "stream",
          "text": [
            "Model: \"sequential_2\"\n",
            "_________________________________________________________________\n",
            " Layer (type)                Output Shape              Param #   \n",
            "=================================================================\n",
            " embedding_2 (Embedding)     (None, None, 64)          320000    \n",
            "                                                                 \n",
            " dropout_2 (Dropout)         (None, None, 64)          0         \n",
            "                                                                 \n",
            " bidirectional_2 (Bidirectio  (None, 128)              66048     \n",
            " nal)                                                            \n",
            "                                                                 \n",
            " dense_2 (Dense)             (None, 64)                8256      \n",
            "                                                                 \n",
            "=================================================================\n",
            "Total params: 394,304\n",
            "Trainable params: 394,304\n",
            "Non-trainable params: 0\n",
            "_________________________________________________________________\n"
          ]
        }
      ],
      "source": [
        "# create a model that uses a sequential bi directional keras model\n",
        "model = Sequential()\n",
        "\n",
        "model.add(Embedding(vocab_size, embedding_dim))\n",
        "model.add(Dropout(0.5))\n",
        "model.add(Bidirectional(LSTM(embedding_dim)))\n",
        "model.add(Dense(64, activation='softmax'))\n",
        "\n",
        "model.summary()"
      ]
    },
    {
      "cell_type": "markdown",
      "metadata": {
        "id": "ZLMzSjmVjP0z"
      },
      "source": [
        "## compile the model"
      ]
    },
    {
      "cell_type": "code",
      "execution_count": null,
      "metadata": {
        "colab": {
          "base_uri": "https://localhost:8080/"
        },
        "id": "eFU_U_MpjP0z",
        "outputId": "0e40e38b-e549-44ef-8810-fb80c30ea488"
      },
      "outputs": [
        {
          "name": "stderr",
          "output_type": "stream",
          "text": [
            "/usr/local/lib/python3.7/dist-packages/keras/optimizer_v2/adam.py:105: UserWarning: The `lr` argument is deprecated, use `learning_rate` instead.\n",
            "  super(Adam, self).__init__(name, **kwargs)\n"
          ]
        }
      ],
      "source": [
        "opt = tf.keras.optimizers.Adam(lr=0.001, decay=1e-6)\n",
        "model.compile(\n",
        "    loss='sparse_categorical_crossentropy',\n",
        "    optimizer=opt,\n",
        "    metrics=['accuracy'],\n",
        ")"
      ]
    },
    {
      "cell_type": "markdown",
      "metadata": {
        "id": "Wee0xZRLjP0z"
      },
      "source": [
        "## train the model"
      ]
    },
    {
      "cell_type": "code",
      "execution_count": null,
      "metadata": {
        "colab": {
          "base_uri": "https://localhost:8080/"
        },
        "id": "v3u7HH3OjP00",
        "outputId": "506e93e7-8061-41b3-99a5-a0f27e143b43"
      },
      "outputs": [
        {
          "name": "stdout",
          "output_type": "stream",
          "text": [
            "Epoch 1/10\n",
            "56/56 - 9s - loss: 2.3694 - accuracy: 0.2287 - val_loss: 1.5971 - val_accuracy: 0.2270 - 9s/epoch - 169ms/step\n",
            "Epoch 2/10\n",
            "56/56 - 5s - loss: 1.5894 - accuracy: 0.2657 - val_loss: 1.5566 - val_accuracy: 0.2899 - 5s/epoch - 86ms/step\n",
            "Epoch 3/10\n",
            "56/56 - 5s - loss: 1.5171 - accuracy: 0.3331 - val_loss: 1.4713 - val_accuracy: 0.3618 - 5s/epoch - 87ms/step\n",
            "Epoch 4/10\n",
            "56/56 - 5s - loss: 1.2759 - accuracy: 0.5708 - val_loss: 1.1566 - val_accuracy: 0.7213 - 5s/epoch - 85ms/step\n",
            "Epoch 5/10\n",
            "56/56 - 5s - loss: 0.8431 - accuracy: 0.7989 - val_loss: 0.6924 - val_accuracy: 0.8404 - 5s/epoch - 86ms/step\n",
            "Epoch 6/10\n",
            "56/56 - 5s - loss: 0.4635 - accuracy: 0.9079 - val_loss: 0.4757 - val_accuracy: 0.8854 - 5s/epoch - 86ms/step\n",
            "Epoch 7/10\n",
            "56/56 - 5s - loss: 0.2276 - accuracy: 0.9758 - val_loss: 0.3123 - val_accuracy: 0.9281 - 5s/epoch - 86ms/step\n",
            "Epoch 8/10\n",
            "56/56 - 5s - loss: 0.1128 - accuracy: 0.9921 - val_loss: 0.2776 - val_accuracy: 0.9236 - 5s/epoch - 86ms/step\n",
            "Epoch 9/10\n",
            "56/56 - 5s - loss: 0.0887 - accuracy: 0.9893 - val_loss: 0.2619 - val_accuracy: 0.9056 - 5s/epoch - 86ms/step\n",
            "Epoch 10/10\n",
            "56/56 - 5s - loss: 0.0373 - accuracy: 1.0000 - val_loss: 0.1895 - val_accuracy: 0.9416 - 5s/epoch - 86ms/step\n"
          ]
        }
      ],
      "source": [
        "num_epochs = 10\n",
        "history = model.fit(train_padded, training_label_seq, epochs=num_epochs, validation_data=(validation_padded, validation_label_seq), verbose=2)"
      ]
    },
    {
      "cell_type": "markdown",
      "metadata": {
        "id": "OckRDkdxkg01"
      },
      "source": [
        "## prediction"
      ]
    },
    {
      "cell_type": "code",
      "execution_count": null,
      "metadata": {
        "colab": {
          "base_uri": "https://localhost:8080/"
        },
        "id": "Bljf-XyFj-0A",
        "outputId": "f34f1565-fd62-43c8-b0f2-bb636bb1f136"
      },
      "outputs": [
        {
          "name": "stdout",
          "output_type": "stream",
          "text": [
            "[[5.4528948e-07 6.5186606e-03 1.4443640e-03 9.8001456e-01 1.1763926e-02\n",
            "  2.1246016e-04 3.5696254e-07 3.1074489e-07 2.0138960e-07 1.3819903e-06\n",
            "  3.8346673e-07 6.4541047e-07 6.5637869e-07 7.0535361e-07 7.3257024e-07\n",
            "  3.7014624e-07 7.3992658e-07 6.1169266e-07 8.7923189e-07 9.1063566e-07\n",
            "  9.4149959e-07 4.3945184e-07 1.9908578e-06 2.6611062e-06 4.3266598e-07\n",
            "  5.8000234e-07 5.7347364e-07 6.3086316e-07 1.2377124e-06 6.8401158e-07\n",
            "  9.9870692e-07 7.7494400e-07 8.3759943e-07 2.6616098e-07 4.2281624e-07\n",
            "  2.5781383e-06 4.1506357e-07 1.3966390e-06 1.3550534e-06 3.8476381e-07\n",
            "  6.5075727e-07 4.2661222e-07 2.3443522e-06 6.7789739e-07 3.2119479e-07\n",
            "  6.3699940e-07 4.3632062e-07 3.6425479e-07 4.0196355e-07 8.0936167e-07\n",
            "  3.4867159e-07 9.1323778e-07 4.6004203e-07 6.5606014e-07 6.8236506e-07\n",
            "  1.9187301e-07 3.0250646e-07 2.4071926e-06 7.3494874e-07 5.4471110e-07\n",
            "  7.3294416e-07 7.2370761e-07 5.8908881e-07 5.7747775e-07]]\n",
            "3\n",
            "politics\n"
          ]
        }
      ],
      "source": [
        "\n",
        "txt = [\"blair prepares to name poll date tony blair is likely to name 5 may as election day when parliament returns from its easter break  the bbc s political editor has learned.  andrew marr says mr blair will ask the queen on 4 or 5 april to dissolve parliament at the end of that week. mr blair has so far resisted calls for him to name the day but all parties have stepped up campaigning recently. downing street would not be drawn on the claim  saying election timing was a matter for the prime minister.  a number 10 spokeswoman would only say:  he will announce an election when he wants to announce an election.  the move will signal a frantic week at westminster as the government is likely to try to get key legislation through parliament. the government needs its finance bill  covering the budget plans  to be passed before the commons closes for business at the end of the session on 7 april.  but it will also seek to push through its serious and organised crime bill and id cards bill. mr marr said on wednesday s today programme:  there s almost nobody at a senior level inside the government or in parliament itself who doesn t expect the election to be called on 4 or 5 april.  as soon as the commons is back after the short easter recess  tony blair whips up to the palace  asks the queen to dissolve parliament ... and we re going.  the labour government officially has until june 2006 to hold general election  but in recent years governments have favoured four-year terms.\"]\n",
        "\n",
        "seq = tokenizer.texts_to_sequences(txt)\n",
        "padded = pad_sequences(seq, maxlen=max_length)\n",
        "pred = model.predict(padded)\n",
        "labels = ['sport', 'bussiness', 'politics', 'tech', 'entertainment'] \n",
        "\n",
        "print(pred)\n",
        "print(np.argmax(pred))\n",
        "print(labels[np.argmax(pred)-1])"
      ]
    },
    {
      "cell_type": "code",
      "execution_count": null,
      "metadata": {
        "colab": {
          "base_uri": "https://localhost:8080/"
        },
        "id": "WEIPiMwHkrEM",
        "outputId": "ca71d91b-0de4-4ef4-8712-37ef04db0d29"
      },
      "outputs": [
        {
          "name": "stdout",
          "output_type": "stream",
          "text": [
            "[[4.64055120e-06 1.55212230e-03 9.33732808e-01 2.80778445e-02\n",
            "  3.55434828e-02 5.81650762e-04 4.75775369e-06 6.87960619e-06\n",
            "  2.80046493e-06 8.46164130e-06 5.07016966e-06 9.05422985e-06\n",
            "  5.83948167e-06 7.34853802e-06 8.57344367e-06 5.13397754e-06\n",
            "  1.08496679e-05 2.87510898e-06 7.50055369e-06 1.11082845e-05\n",
            "  1.04783094e-05 1.20740388e-05 1.22860683e-05 1.72111158e-05\n",
            "  5.44817794e-06 5.48764228e-06 9.63362891e-06 9.56845543e-06\n",
            "  4.37447079e-06 5.35981553e-06 4.16320017e-06 6.55491976e-06\n",
            "  1.37061270e-05 3.50176970e-06 6.60892647e-06 1.85855679e-05\n",
            "  9.53131439e-06 7.06927085e-06 1.97946738e-05 1.07271326e-05\n",
            "  1.06321995e-05 5.14648264e-06 1.94502227e-05 3.98282236e-06\n",
            "  3.89698062e-06 6.76175068e-06 4.07554990e-06 6.34912703e-06\n",
            "  6.44042666e-06 3.16389487e-05 2.10076837e-06 5.19309879e-06\n",
            "  6.97474115e-06 3.75193440e-06 1.12264779e-05 3.92491665e-06\n",
            "  8.46710554e-06 2.35666648e-05 4.93998732e-06 8.61276294e-06\n",
            "  1.22561105e-05 6.55060785e-06 1.07944015e-05 1.24697544e-05]]\n",
            "2\n",
            "bussiness\n"
          ]
        }
      ],
      "source": [
        "\n",
        "txt = [\"call to save manufacturing jobs the trades union congress (tuc) is calling on the government to stem job losses in manufacturing firms by reviewing the help it gives companies.  the tuc said in its submission before the budget that action is needed because of 105 000 jobs lost from the sector over the last year. it calls for better pensions  child care provision and decent wages. the 36-page submission also urges the government to examine support other european countries provide to industry. tuc general secretary brendan barber called for  a commitment to policies that will make a real difference to the lives of working people.    greater investment in childcare strategies and the people delivering that childcare will increases the options available to working parents   he said.  a commitment to our public services and manufacturing sector ensures that we can continue to compete on a global level and deliver the frontline services that this country needs.  he also called for  practical measures  to help pensioners  especially women who he said  are most likely to retire in poverty . the submission also calls for decent wages and training for people working in the manufacturing sector.\"]\n",
        "\n",
        "seq = tokenizer.texts_to_sequences(txt)\n",
        "padded = pad_sequences(seq, maxlen=max_length)\n",
        "pred = model.predict(padded)\n",
        "labels = ['sport', 'bussiness', 'politics', 'tech', 'entertainment'] \n",
        "\n",
        "print(pred)\n",
        "print(np.argmax(pred))\n",
        "print(labels[np.argmax(pred)-1])\n"
      ]
    }
  ],
  "metadata": {
    "accelerator": "GPU",
    "colab": {
      "collapsed_sections": [],
      "name": "multi_class_text_classification.ipynb",
      "provenance": [],
      "include_colab_link": true
    },
    "interpreter": {
      "hash": "22e530edb2cb189d38d2622b011ee0ed40eb01e1872c49e9e897874dcd903b8e"
    },
    "kernelspec": {
      "display_name": "Python 3",
      "language": "python",
      "name": "python3"
    },
    "language_info": {
      "codemirror_mode": {
        "name": "ipython",
        "version": 3
      },
      "file_extension": ".py",
      "mimetype": "text/x-python",
      "name": "python",
      "nbconvert_exporter": "python",
      "pygments_lexer": "ipython3",
      "version": "3.8.5"
    }
  },
  "nbformat": 4,
  "nbformat_minor": 0
}